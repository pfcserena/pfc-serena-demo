{
 "cells": [
  {
   "attachments": {},
   "cell_type": "markdown",
   "metadata": {},
   "source": [
    "# Notebook para analisis de audios reales.\n",
    "\n",
    "El presente notebook fue diseñado para hacer inferencia con el mejor modelo de los entrenados por el equipo SERENA sobre audios. \n",
    "\n",
    "Se asume que los audios de entrada están muestreados a 48 kHz."
   ]
  },
  {
   "attachments": {},
   "cell_type": "markdown",
   "metadata": {},
   "source": [
    "<table align=\"center\">\n",
    "  <td>\n",
    "    <a target=\"_blank\" href=\"https://colab.research.google.com/github/pfcserena/pfc-serena-demo/blob/main/demo.ipynb\"><img src=\"https://www.tensorflow.org/images/colab_logo_32px.png\" />Run in Google Colab</a>\n",
    "  </td>\n",
    "</table>"
   ]
  },
  {
   "attachments": {},
   "cell_type": "markdown",
   "metadata": {},
   "source": [
    "## Paso 1: Preparación de directorios \n",
    "\n",
    "Previo a correr este notebook ...."
   ]
  },
  {
   "cell_type": "code",
   "execution_count": null,
   "metadata": {},
   "outputs": [],
   "source": [
    "!git clone https://github.com/pfcserena/pfc-serena-demo.git"
   ]
  },
  {
   "cell_type": "code",
   "execution_count": null,
   "metadata": {},
   "outputs": [],
   "source": [
    "import numpy as np\n",
    "from scipy.io import wavfile\n",
    "import IPython.display as ipd\n",
    "\n",
    "import warnings\n",
    "warnings.filterwarnings('ignore')\n",
    "\n",
    "from google.colab import files\n",
    "\n",
    "import shutil\n",
    "\n",
    "import sys\n",
    "sys.path.append('pfc-serena-demo/')\n",
    "\n",
    "from Functions.functions import *"
   ]
  },
  {
   "attachments": {},
   "cell_type": "markdown",
   "metadata": {},
   "source": [
    "## Paso 2: Calcular scores para los audios"
   ]
  },
  {
   "attachments": {},
   "cell_type": "markdown",
   "metadata": {},
   "source": [
    "\n",
    "El modelo asigna a cada fragmento de audio la probabilidad de pertenecer a las clases \"Vehículos acuáticos y terrestres\" y \"Vehículos aéreos\". En la siguiente celda calculan los scores de cada clase para los audios en la carpeta *Audios*. Este proceso puede demorar, el tiempo incrementará al aumentar la cantidad de audios a analizar."
   ]
  },
  {
   "cell_type": "code",
   "execution_count": null,
   "metadata": {},
   "outputs": [],
   "source": [
    "# load audio file from local path\n",
    "sr, data = wavfile.read('./pfc-serena-demo/Audios/pedrito.wav')\n",
    "\n",
    "# normalize maximum (absolute) amplitude\n",
    "data = data / np.max(abs(data)) * 0.9\n",
    "\n",
    "# play audio\n",
    "ipd.Audio(data, rate=sr)"
   ]
  },
  {
   "cell_type": "code",
   "execution_count": null,
   "metadata": {},
   "outputs": [],
   "source": [
    "audios = [ 'pedrito.wav' ]\n",
    "analyzed_data = analyze_audios(audios)"
   ]
  },
  {
   "attachments": {},
   "cell_type": "markdown",
   "metadata": {},
   "source": [
    "## Paso 3: Analizar los resultados obtenidos\n",
    "Las siguientes celdas permiten analizar los resultados obtenidos sobre los audios en la carpeta *Audios*. Para que sea mas sencillo para el usuario el siguiente código permite visualizar los audios de a uno. \n",
    "\n",
    "Antes de correr las celdas modifique el contenido de la siguiente celda para seleccionar el audio a analizar y algunos otros parámetros. Si se desea analizar otro audio pueden modificarse los parámetros de la siguiente celda y correr únicamente esta celda y las que la siguen para mostrar el análisis.\n",
    "\n",
    "El fragmento de audio seleccionado para analisis se guardará en formato '.wav' en la misma carpeta que este notebook."
   ]
  },
  {
   "cell_type": "code",
   "execution_count": null,
   "metadata": {},
   "outputs": [],
   "source": [
    "##########################################################\n",
    "### Ingresar el nombre del audio que se desea analizar ###\n",
    "##########################################################\n",
    "\n",
    "# Debe ingresarse el mismo nombre que tiene el archivo en la carpeta Audios.\n",
    "audio = \"pedrito.wav\"\n",
    "\n",
    "# Nombre del archivo de audio que se generará en la carpeta en la que se encuentra el notebook\n",
    "# este audio corresponde con la ventana de análisis.\n",
    "file_name = \"analized_chunk.wav\"\n",
    "\n",
    "###########################################################\n",
    "### Ingresar la ventana del audio que se desea analizar ###\n",
    "###########################################################\n",
    "\n",
    "# El tiempo de inicio puede ser multiplo de 10 o cero y el tiempo de fin ha de ser multiplo de 10.\n",
    "# Recordar que inicio ha de ser menor a fin.\n",
    "\n",
    "inicio = 0 # Inicio en segundos de la ventana de analisis\n",
    "fin = 130 # Fin en segundos de la ventana de analisis"
   ]
  },
  {
   "cell_type": "code",
   "execution_count": null,
   "metadata": {},
   "outputs": [],
   "source": [
    "information = plot_audio_labels(audio, analyzed_data, inicio, fin)"
   ]
  },
  {
   "cell_type": "code",
   "execution_count": null,
   "metadata": {},
   "outputs": [],
   "source": [
    "# Display a widget to listen to the audio\n",
    "ipd.Audio(check_information(information, inicio = 30), rate=48000)"
   ]
  },
  {
   "attachments": {},
   "cell_type": "markdown",
   "metadata": {},
   "source": [
    "## Paso 4: Suba su propio audio"
   ]
  },
  {
   "cell_type": "code",
   "execution_count": null,
   "metadata": {},
   "outputs": [],
   "source": [
    "uploaded = files.upload()"
   ]
  },
  {
   "cell_type": "code",
   "execution_count": null,
   "metadata": {},
   "outputs": [],
   "source": [
    "filename = list(uploaded.keys())[0]\n",
    "\n",
    "ruta_archivo = filename\n",
    "ruta_carpeta_destino = './pfc-serena-demo/Audios/'\n",
    "shutil.move(ruta_archivo, ruta_carpeta_destino)"
   ]
  },
  {
   "cell_type": "code",
   "execution_count": null,
   "metadata": {},
   "outputs": [],
   "source": [
    "audios = [ filename]\n",
    "analyzed_data = analyze_audios(audios)"
   ]
  },
  {
   "cell_type": "code",
   "execution_count": null,
   "metadata": {},
   "outputs": [],
   "source": [
    "##########################################################\n",
    "### Ingresar el nombre del audio que se desea analizar ###\n",
    "##########################################################\n",
    "\n",
    "# Debe ingresarse el mismo nombre que tiene el archivo en la carpeta Audios.\n",
    "audio = filename\n",
    "\n",
    "###########################################################\n",
    "### Ingresar la ventana del audio que se desea analizar ###\n",
    "###########################################################\n",
    "\n",
    "# El tiempo de inicio puede ser multiplo de 10 o cero y el tiempo de fin ha de ser multiplo de 10.\n",
    "# Recordar que inicio ha de ser menor a fin.\n",
    "\n",
    "inicio = 0 # Inicio en segundos de la ventana de analisis\n",
    "fin = 10 # Fin en segundos de la ventana de analisis"
   ]
  },
  {
   "cell_type": "code",
   "execution_count": null,
   "metadata": {},
   "outputs": [],
   "source": [
    "information = plot_audio_labels(audio, analyzed_data, inicio, fin)"
   ]
  },
  {
   "cell_type": "code",
   "execution_count": null,
   "metadata": {},
   "outputs": [],
   "source": [
    "# Display a widget to listen to the audio\n",
    "ipd.Audio(check_information(information, inicio = 30), rate=48000)"
   ]
  }
 ],
 "metadata": {
  "language_info": {
   "name": "python"
  },
  "orig_nbformat": 4
 },
 "nbformat": 4,
 "nbformat_minor": 2
}
