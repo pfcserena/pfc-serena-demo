{
 "cells": [
  {
   "attachments": {},
   "cell_type": "markdown",
   "metadata": {},
   "source": [
    "# Notebook para analisis de audios reales.\n",
    "\n",
    "El presente notebook fue diseñado para hacer inferencia con el mejor modelo de los entrenados por el equipo SERENA sobre audios. \n",
    "\n",
    "Se asume que los audios de entrada están muestreados a 48 kHz."
   ]
  },
  {
   "attachments": {},
   "cell_type": "markdown",
   "metadata": {},
   "source": [
    "### Ejecutar el notebook\n",
    "\n",
    "Para ejecutar este notebook, puedes hacerlo en tu computadora local o utilizar Google Colab. Si decides utilizar Google Colab, puedes hacer clic en el botón \"Run in Google Colab\" ubicado a continuación.\n",
    "\n",
    "<table align=\"center\">\n",
    "  <td>\n",
    "    <a target=\"_blank\" href=\"https://colab.research.google.com/github/pfcserena/pfc-serena-demo/blob/main/demo.ipynb\"><img src=\"https://www.tensorflow.org/images/colab_logo_32px.png\" />Run in Google Colab</a>\n",
    "  </td>\n",
    "</table>"
   ]
  },
  {
   "attachments": {},
   "cell_type": "markdown",
   "metadata": {},
   "source": [
    "## Paso 1: Preparación de directorios \n",
    "\n",
    "Antes de ejecutar este notebook, es necesario preparar los directorios que contienen los archivos necesarios para utilizar las funciones y modelos incluidos en el repositorio. A continuación se muestran las celdas que se encargan de ello:\n",
    "\n",
    "- La siguiente celda clona el repositorio \"pfc-serena-demo\" en el directorio actual del notebook:"
   ]
  },
  {
   "cell_type": "code",
   "execution_count": null,
   "metadata": {},
   "outputs": [],
   "source": [
    "# Clona el repositorio de la demo\n",
    "!git clone https://github.com/pfcserena/pfc-serena-demo.git"
   ]
  },
  {
   "attachments": {},
   "cell_type": "markdown",
   "metadata": {},
   "source": [
    "- A continuación, se importan las bibliotecas y funciones necesarias para el análisis de los audios."
   ]
  },
  {
   "cell_type": "code",
   "execution_count": null,
   "metadata": {},
   "outputs": [],
   "source": [
    "# importa la biblioteca NumPy \n",
    "import numpy as np  \n",
    "\n",
    "# importa la función wavfile de la biblioteca SciPy\n",
    "from scipy.io import wavfile  \n",
    "\n",
    "# importa la biblioteca IPython.display para mostrar audios\n",
    "import IPython.display as ipd  \n",
    "\n",
    "# importa la biblioteca warnings para controlar las advertencias\n",
    "import warnings  \n",
    "warnings.filterwarnings('ignore')  \n",
    "\n",
    "# importa la biblioteca files de Google Colab\n",
    "from google.colab import files  \n",
    "\n",
    "# importa la biblioteca shutil para manipular archivos y directorios\n",
    "import shutil  \n",
    "\n",
    "# importa la biblioteca sys\n",
    "import sys  \n",
    "sys.path.append('pfc-serena-demo/')  \n",
    "\n",
    "# importa todas las funciones del archivo functions.py propias del proyecto\n",
    "from Functions.functions import *  "
   ]
  },
  {
   "attachments": {},
   "cell_type": "markdown",
   "metadata": {},
   "source": [
    "## Paso 2: Calcular scores para los audios"
   ]
  },
  {
   "attachments": {},
   "cell_type": "markdown",
   "metadata": {},
   "source": [
    "En esta sección, el modelo asigna a cada fragmento de audio la probabilidad de pertenecer a las clases \"Vehículos acuáticos y terrestres\" y \"Vehículos aéreos\". \n",
    "\n",
    "En la siguiente celda, se calcularán los scores de cada clase para los audios que se encuentran en la carpeta *Audios*. Ten en cuenta que este proceso puede tardar, especialmente si se analizan varios archivos de audio."
   ]
  },
  {
   "cell_type": "code",
   "execution_count": null,
   "metadata": {},
   "outputs": [],
   "source": [
    "audios = [ f for f in os.listdir('./pfc-serena-demo/Audios') if f.endswith((\".wav\",\".WAV\")) ]\n",
    "analyzed_data = analyze_audios(audios)"
   ]
  },
  {
   "attachments": {},
   "cell_type": "markdown",
   "metadata": {},
   "source": [
    "## Paso 3: Analizar los resultados obtenidos\n",
    "Las siguientes celdas permiten analizar los resultados obtenidos sobre los audios en la carpeta *Audios*. Para que sea mas sencillo para el usuario el siguiente código permite visualizar los audios de a uno. \n",
    "\n",
    "Antes de correr las celdas modifique el contenido de la siguiente celda para seleccionar el audio a analizar y algunos otros parámetros. Si se desea analizar otro audio pueden modificarse los parámetros de la siguiente celda y correr únicamente esta celda y las que la siguen para mostrar el análisis.\n",
    "\n",
    "Después de generado el análisis, puedes seleccionar la porción del audio que deseas escuchar y observar la predicción para esa sección específica. "
   ]
  },
  {
   "cell_type": "code",
   "execution_count": null,
   "metadata": {},
   "outputs": [],
   "source": [
    "##########################################################\n",
    "### Ingresar el nombre del audio que se desea analizar ###\n",
    "##########################################################\n",
    "\n",
    "# Debe ingresarse el mismo nombre que tiene el archivo en la carpeta Audios.\n",
    "audio = \"pedrito.wav\"\n",
    "\n",
    "###########################################################\n",
    "### Ingresar la ventana del audio que se desea analizar ###\n",
    "###########################################################\n",
    "\n",
    "# El tiempo de inicio puede ser multiplo de 10 o cero y el tiempo de fin ha de ser multiplo de 10.\n",
    "# Recordar que inicio ha de ser menor a fin.\n",
    "\n",
    "inicio = 0 # Inicio en segundos de la ventana de analisis\n",
    "fin = 130 # Fin en segundos de la ventana de analisis"
   ]
  },
  {
   "cell_type": "code",
   "execution_count": null,
   "metadata": {},
   "outputs": [],
   "source": [
    "information = plot_audio_labels(audio, analyzed_data, inicio, fin)"
   ]
  },
  {
   "cell_type": "code",
   "execution_count": null,
   "metadata": {},
   "outputs": [],
   "source": [
    "# Tiempo a esuchar (en segundos) \n",
    "time = 10 \n",
    "\n",
    "# Mostrar un widget para escuchar el audio\n",
    "ipd.Audio(check_information(information, inicio = time), rate=48000)"
   ]
  },
  {
   "attachments": {},
   "cell_type": "markdown",
   "metadata": {},
   "source": [
    "## Paso 4: Suba su propio audio\n",
    "\n",
    "Esta sección le permite al usuario subir un archivo de audio propio y realizar un análisis de clasificación de Vehículos Acuáticos y Terrestres y Vehículos Aéreos en dicho archivo.\n",
    "\n",
    "- La primera celda permite al usuario subir un archivo de audio al Notebook."
   ]
  },
  {
   "cell_type": "code",
   "execution_count": null,
   "metadata": {},
   "outputs": [],
   "source": [
    "# Subir el archivo de audio\n",
    "uploaded = files.upload()\n",
    "\n",
    "# Guardar el archivo de audio en la carpeta Audios\n",
    "filename = list(uploaded.keys())[0]\n",
    "\n",
    "ruta_archivo = filename\n",
    "ruta_carpeta_destino = './pfc-serena-demo/Audios/'\n",
    "shutil.move(ruta_archivo, ruta_carpeta_destino)"
   ]
  },
  {
   "attachments": {},
   "cell_type": "markdown",
   "metadata": {},
   "source": [
    "-  Se analiza el archivo subido utilizando el modelo entrenado "
   ]
  },
  {
   "cell_type": "code",
   "execution_count": null,
   "metadata": {},
   "outputs": [],
   "source": [
    "audios = [filename]\n",
    "analyzed_data = analyze_audios(audios)"
   ]
  },
  {
   "attachments": {},
   "cell_type": "markdown",
   "metadata": {},
   "source": [
    "- En la siguiente celda, el usuario debe modificar los parámetros de inicio y fin de la ventana de análisis"
   ]
  },
  {
   "cell_type": "code",
   "execution_count": null,
   "metadata": {},
   "outputs": [],
   "source": [
    "###########################################################\n",
    "### Ingresar la ventana del audio que se desea analizar ###\n",
    "###########################################################\n",
    "\n",
    "# El tiempo de inicio puede ser multiplo de 10 o cero y el tiempo de fin ha de ser multiplo de 10.\n",
    "# Recordar que inicio ha de ser menor a fin.\n",
    "\n",
    "inicio = 0 # Inicio en segundos de la ventana de analisis\n",
    "fin = 10 # Fin en segundos de la ventana de analisis"
   ]
  },
  {
   "cell_type": "code",
   "execution_count": null,
   "metadata": {},
   "outputs": [],
   "source": [
    "information = plot_audio_labels(filename, analyzed_data, inicio, fin)"
   ]
  },
  {
   "attachments": {},
   "cell_type": "markdown",
   "metadata": {},
   "source": [
    "- Muestra un reproductor de audio que permite al usuario escuchar una ventana de tiempo especificada y ver las predicciones del modelo para dicha ventana. "
   ]
  },
  {
   "cell_type": "code",
   "execution_count": null,
   "metadata": {},
   "outputs": [],
   "source": [
    "# Tiempo a esuchar (en segundos) \n",
    "time = 125 \n",
    "\n",
    "# Mostrar un widget para escuchar el audio\n",
    "ipd.Audio(check_information(information, inicio = time), rate=48000)"
   ]
  }
 ],
 "metadata": {
  "language_info": {
   "name": "python"
  },
  "orig_nbformat": 4
 },
 "nbformat": 4,
 "nbformat_minor": 2
}
