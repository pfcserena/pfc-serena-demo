{
 "cells": [
  {
   "attachments": {},
   "cell_type": "markdown",
   "metadata": {},
   "source": [
    "# Notebook para analisis de audios reales.\n",
    "\n",
    "El presente notebook fue diseñado para hacer inferencia con el mejor modelo de los entrenados por el equipo SERENA sobre audios. \n",
    "\n",
    "Se asume que los audios de entrada están muestreados a 48 kHz."
   ]
  },
  {
   "attachments": {},
   "cell_type": "markdown",
   "metadata": {},
   "source": [
    "<table align=\"center\">\n",
    "  <td>\n",
    "    <a target=\"_blank\" href=\"https://colab.research.google.com/github/pfcserena/pfc-serena-demo/blob/main/demo.ipynb\"><img src=\"https://www.tensorflow.org/images/colab_logo_32px.png\" />Run in Google Colab</a>\n",
    "  </td>\n",
    "</table>"
   ]
  },
  {
   "attachments": {},
   "cell_type": "markdown",
   "metadata": {},
   "source": [
    "## Paso 1: Preparación de directorios \n",
    "\n",
    "Previo a correr este notebook ...."
   ]
  },
  {
   "cell_type": "code",
   "execution_count": null,
   "metadata": {},
   "outputs": [],
   "source": [
    "!git clone https://github.com/pfcserena/pfc-serena-demo.git"
   ]
  },
  {
   "cell_type": "code",
   "execution_count": null,
   "metadata": {},
   "outputs": [],
   "source": [
    "import numpy as np\n",
    "from scipy.io import wavfile\n",
    "import IPython.display as ipd\n",
    "\n",
    "import sys\n",
    "sys.path.append('pfc-serena-demo/')\n",
    "\n",
    "from Functions.functions import *"
   ]
  },
  {
   "attachments": {},
   "cell_type": "markdown",
   "metadata": {},
   "source": [
    "## Paso 2: Calcular scores para los audios"
   ]
  },
  {
   "cell_type": "code",
   "execution_count": null,
   "metadata": {},
   "outputs": [],
   "source": [
    "# load audio file from local path\n",
    "sr, data = wavfile.read('./pfc-serena-demo/Audios/ArdPF_20211216_090000_avion2.wav')\n",
    "\n",
    "# normalize maximum (absolute) amplitude\n",
    "data = data / np.max(abs(data)) * 0.9\n",
    "\n",
    "# play audio\n",
    "ipd.Audio(data, rate=sr)"
   ]
  },
  {
   "cell_type": "code",
   "execution_count": null,
   "metadata": {},
   "outputs": [],
   "source": [
    "audios = [ './pfc-serena-demo/Audios/pedrito.wav' ]\n",
    "analyzed_data = analyze_audios(audios)"
   ]
  },
  {
   "cell_type": "code",
   "execution_count": null,
   "metadata": {},
   "outputs": [],
   "source": [
    "##########################################################\n",
    "### Ingresar el nombre del audio que se desea analizar ###\n",
    "##########################################################\n",
    "\n",
    "# Debe ingresarse el mismo nombre que tiene el archivo en la carpeta Audios.\n",
    "audio = \"BCAA2_20211231_110000.WAV\"\n",
    "\n",
    "# Nombre del archivo de audio que se generará en la carpeta en la que se encuentra el notebook\n",
    "# este audio corresponde con la ventana de análisis.\n",
    "file_name = \"analized_chunk.wav\"\n",
    "\n",
    "###########################################################\n",
    "### Ingresar la ventana del audio que se desea analizar ###\n",
    "###########################################################\n",
    "\n",
    "# El tiempo de inicio puede ser multiplo de 10 o cero y el tiempo de fin ha de ser multiplo de 10.\n",
    "# Recordar que inicio ha de ser menor a fin.\n",
    "\n",
    "inicio = 0 # Inicio en segundos de la ventana de analisis\n",
    "fin = 300 # Fin en segundos de la ventana de analisis"
   ]
  },
  {
   "cell_type": "code",
   "execution_count": null,
   "metadata": {},
   "outputs": [],
   "source": [
    "information = plot_audio_labels(audio, analyzed_data, inicio, fin)"
   ]
  }
 ],
 "metadata": {
  "language_info": {
   "name": "python"
  },
  "orig_nbformat": 4
 },
 "nbformat": 4,
 "nbformat_minor": 2
}
