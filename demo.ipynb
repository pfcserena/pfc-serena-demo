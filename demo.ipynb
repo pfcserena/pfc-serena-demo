{
 "cells": [
  {
   "attachments": {},
   "cell_type": "markdown",
   "metadata": {},
   "source": [
    "<table align=\"center\">\n",
    "  <td>\n",
    "    <a target=\"_blank\" href=\"https://colab.research.google.com/github/pfcserena/pfc-serena-demo/blob/main/demo.ipynb\"><img src=\"https://www.tensorflow.org/images/colab_logo_32px.png\" />Run in Google Colab</a>\n",
    "  </td>\n",
    "</table>"
   ]
  },
  {
   "cell_type": "code",
   "execution_count": null,
   "metadata": {},
   "outputs": [],
   "source": [
    "!git clone https://github.com/pfcserena/pfc-serena-demo.git"
   ]
  },
  {
   "cell_type": "code",
   "execution_count": null,
   "metadata": {},
   "outputs": [],
   "source": [
    "import numpy as np\n",
    "from scipy.io import wavfile\n",
    "import IPython.display as ipd\n",
    "\n",
    "import sys\n",
    "sys.path.append('pfc-serena-demo/')\n",
    "# sys.path.insert(0,'pfc-serena-demo/')\n",
    "from Functions.functions import *"
   ]
  },
  {
   "cell_type": "code",
   "execution_count": null,
   "metadata": {},
   "outputs": [],
   "source": [
    "# load audio file from local path\n",
    "sr, data = wavfile.read('./pfc-serena-demo/Audios/ArdPF_20211216_090000_avion2.wav')\n",
    "\n",
    "# normalize maximum (absolute) amplitude\n",
    "data = data / np.max(abs(data)) * 0.9\n",
    "\n",
    "# play audio\n",
    "ipd.Audio(data, rate=sr)"
   ]
  },
  {
   "cell_type": "code",
   "execution_count": null,
   "metadata": {},
   "outputs": [],
   "source": [
    "labeled_audio = generate_labeled_data('./pfc-serena-demo/Audios/ArdPF_20211216_090000_avion2.wav')\n",
    "labeled_audio = labeled_audio.apply(apply_pred, axis=1)"
   ]
  },
  {
   "cell_type": "code",
   "execution_count": null,
   "metadata": {},
   "outputs": [],
   "source": [
    "labeled_audio"
   ]
  }
 ],
 "metadata": {
  "language_info": {
   "name": "python"
  },
  "orig_nbformat": 4
 },
 "nbformat": 4,
 "nbformat_minor": 2
}
